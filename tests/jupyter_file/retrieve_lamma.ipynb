{
 "cells": [
  {
   "cell_type": "code",
   "execution_count": null,
   "id": "8efcbe96",
   "metadata": {},
   "outputs": [],
   "source": [
    "from llama_index.core import VectorStoreIndex, SimpleDirectoryReader, Settings\n",
    "from llama_index.vector_stores.chroma import ChromaVectorStore\n",
    "from llama_index.llms.google_genai import GoogleGenAI\n",
    "from llama_index.embeddings.gemini import GeminiEmbedding\n",
    "from llama_index.core import Settings\n",
    "import chromadb\n",
    "import os\n",
    "\n",
    "# === Set up ChromaDB client ===\n",
    "persist_directory = \"chroma_db\"\n",
    "chroma_client = chromadb.PersistentClient(path=persist_directory)\n",
    "collection = chroma_client.get_or_create_collection(\"pdf_collection\")\n",
    "vector_store = ChromaVectorStore(chroma_collection=collection)\n",
    "\n",
    "# === Set up Gemini LLM ===\n",
    "Settings.llm = GoogleGenAI(\n",
    "    model=\"gemini-2.0-flash\",\n",
    "    api_key=os.getenv(\"GOOGLE_API_KEY\")  # uses GOOGLE_API_KEY env var by default\n",
    ")\n",
    "\n",
    "Settings.embed_model = GeminiEmbedding(api_key=os.getenv(\"GOOGLE_API_KEY\"))\n",
    "\n",
    "# === Load PDF documents ===\n",
    "# Place your PDF(s) in a folder called 'pdfs'\n",
    "documents = SimpleDirectoryReader(\"pdfs\").load_data()\n",
    "\n",
    "# === Create index and store in ChromaDB ===\n",
    "index = VectorStoreIndex.from_documents(\n",
    "    documents,\n",
    "    vector_store=vector_store\n",
    ")"
   ]
  },
  {
   "cell_type": "code",
   "execution_count": 9,
   "id": "a06b33d3",
   "metadata": {},
   "outputs": [
    {
     "name": "stdout",
     "output_type": "stream",
     "text": [
      "The laptops are AlphaBook Pro, GammaAir X, SpectraBook S, OmegaPro G17, and NanoEdge Flex.\n",
      "\n"
     ]
    }
   ],
   "source": [
    "# === Rehydrate index from ChromaDB for querying (optional; for later sessions) ===\n",
    "# index = VectorStoreIndex.from_vector_store(vector_store, service_context=service_context)\n",
    "\n",
    "# === Query the index ===\n",
    "query_engine = index.as_query_engine()\n",
    "\n",
    "response = query_engine.query(\"Name all the laptops\")\n",
    "print(response)"
   ]
  }
 ],
 "metadata": {
  "kernelspec": {
   "display_name": "venv",
   "language": "python",
   "name": "python3"
  },
  "language_info": {
   "codemirror_mode": {
    "name": "ipython",
    "version": 3
   },
   "file_extension": ".py",
   "mimetype": "text/x-python",
   "name": "python",
   "nbconvert_exporter": "python",
   "pygments_lexer": "ipython3",
   "version": "3.12.7"
  }
 },
 "nbformat": 4,
 "nbformat_minor": 5
}
